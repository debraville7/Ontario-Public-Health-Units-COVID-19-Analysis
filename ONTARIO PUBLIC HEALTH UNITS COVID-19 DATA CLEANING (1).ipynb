{
 "cells": [
  {
   "cell_type": "markdown",
   "id": "8ceda9bf-62bf-4dbc-a651-5deb454ec4d3",
   "metadata": {},
   "source": [
    "### STEP 1: DATA EXTRACTION:"
   ]
  },
  {
   "cell_type": "code",
   "execution_count": null,
   "id": "06396c49-1d6f-4b51-8e61-0fe8008b38c2",
   "metadata": {},
   "outputs": [],
   "source": [
    "# Import python libraries\n",
    "\n",
    "import pandas as pd\n",
    "import numpy as np\n",
    "pd.options.display.float_format = '{:,.2f}'.format\n",
    "pd.set_option('display.width', 35)\n",
    "pd.set_option('display.max_columns', 35)"
   ]
  },
  {
   "cell_type": "code",
   "execution_count": null,
   "id": "7ae7de71-ba23-4952-a8f0-a01d5074bd23",
   "metadata": {},
   "outputs": [],
   "source": [
    "# Import data from SQL SERVER database\n",
    "\n",
    "from sqlalchemy import create_engine, MetaData, Table, select, text\n",
    "import pandas as pd\n",
    "\n",
    "# Connection string using Windows Authentication (no username/password needed)\n",
    "# Replace 'your_server_name' and 'your_database_name' with actual values\n",
    "server_name = r\"DEBBY\\MSSQLSERVER06\"  # e.g., \"localhost\" or \"SERVER01\\SQLEXPRESS\"\n",
    "database_name = \"datawarehouse\"   # your database name\n",
    "\n",
    "# Create connection string for Windows Authentication\n",
    "connection_string = f\"mssql+pyodbc://{server_name}/{database_name}?driver=ODBC+Driver+17+for+SQL+Server&trusted_connection=yes\"\n",
    "\n",
    "# Alternative connection string format\n",
    "# connection_string = f\"mssql+pyodbc://@{server_name}/{database_name}?driver=ODBC+Driver+17+for+SQL+Server&trusted_connection=yes\"\n",
    "\n",
    "# Create engine\n",
    "engine = create_engine(connection_string)\n",
    "\n",
    "# Method 1: Using pandas to execute SELECT * (Recommended for data analysis)\n",
    "try:\n",
    "    # Simple SELECT * from table\n",
    "    query = \"SELECT * from [datawarehouse].[dbo].[fact_unified_covid]\"\n",
    "    covid_df = pd.read_sql(query, engine)\n",
    "    print(f\"Retrieved {len(covid_df)} rows from table\")\n",
    "except Exception as e:\n",
    "    print(f\"Error: {e}\")"
   ]
  },
  {
   "cell_type": "code",
   "execution_count": null,
   "id": "f7611c05-2b5d-494d-978b-1ed462de8785",
   "metadata": {},
   "outputs": [],
   "source": [
    "# 35 unique PHUs. Investigated 9999 which is unknown PHU\n",
    "\n",
    "covid_df[\"PHU_ID\"].value_counts(dropna=False)"
   ]
  },
  {
   "cell_type": "markdown",
   "id": "58e105c3-f9b3-4be7-82ae-70723114dbea",
   "metadata": {},
   "source": [
    "### STEP 2: DATA CLEANING AND STANDARDIZATION\n",
    "\n",
    "• Handle missing values using imputation and removal as appropriate. \n",
    "• Remove duplicates and check for consistency in identifiers (PHU_ID, Agegroup, Date). \n",
    "• Detect and treat outliers in case counts and vaccination data. \n",
    "• Standardize variable names and formats across datasets (snake_case format preferred). \n",
    "• Validate merged dataset ensuring PHU_ID, Date, and Agegroup align correctly."
   ]
  },
  {
   "cell_type": "markdown",
   "id": "415e9f20-9a41-4b2a-8909-9e730a358bae",
   "metadata": {},
   "source": [
    "#### 1. Standardize variable names and formats across datasets (snake_case format preferred)"
   ]
  },
  {
   "cell_type": "code",
   "execution_count": null,
   "id": "56c78066-0747-48a0-9e7e-a78a848234f8",
   "metadata": {},
   "outputs": [],
   "source": [
    "#####  Standardize variable names and formats across datasets (snake_case format preferred)\n",
    "\n",
    "import pandas as pd\n",
    "import re\n",
    "\n",
    "def standardize_column_names(df):\n",
    "   \"\"\"\n",
    "   Convert DataFrame column names to snake_case format\n",
    "   \"\"\"\n",
    "   covid_df_copy = covid_df.copy()\n",
    "   old_to_new = {}\n",
    "   \n",
    "   for col in covid_df_copy.columns:\n",
    "       # Convert to snake_case\n",
    "       new_col = col.strip()  # Remove leading/trailing spaces\n",
    "       new_col = re.sub(r'[^\\w\\s]', '', new_col)  # Remove special characters except underscore\n",
    "       new_col = re.sub(r'\\s+', '_', new_col)     # Replace spaces with underscore\n",
    "       new_col = re.sub(r'_{2,}', '_', new_col)   # Replace multiple underscores with single\n",
    "       new_col = new_col.lower()                  # Convert to lowercase\n",
    "       new_col = new_col.strip('_')               # Remove leading/trailing underscores\n",
    "       \n",
    "       old_to_new[col] = new_col\n",
    "   \n",
    "   # Rename columns\n",
    "   covid_df_copy = covid_df_copy.rename(columns=old_to_new)\n",
    "   \n",
    "   # Print changes\n",
    "   print(\"Column name changes:\")\n",
    "   for old, new in old_to_new.items():\n",
    "       if old != new:\n",
    "           print(f\"  '{old}' → '{new}'\")\n",
    "   \n",
    "   return covid_df_copy\n",
    "\n",
    "# Apply to your DataFrame\n",
    "covid_df = standardize_column_names(covid_df)\n",
    "\n",
    "print(f\"\\n✅ Standardized {len(covid_df.columns)} column names to snake_case format\")\n",
    "print(f\"New columns: {list(covid_df.columns)}\")"
   ]
  },
  {
   "cell_type": "code",
   "execution_count": null,
   "id": "273ca382-73cb-45a1-8206-c5ae70973f22",
   "metadata": {},
   "outputs": [],
   "source": [
    "# Standardize Dates Data Types\n",
    "\n",
    "covid_df['date'] = pd.to_datetime(covid_df['date'], errors='coerce')\n",
    "covid_df['date'] = pd.to_datetime(covid_df['date'], errors='coerce')\n",
    "covid_df['date'] = pd.to_datetime(covid_df['date'], errors='coerce')\n",
    "covid_df['case_reported_date'] = pd.to_datetime(covid_df['case_reported_date'], errors='coerce')\n",
    "covid_df['test_reported_date'] = pd.to_datetime(covid_df['test_reported_date'], errors='coerce')\n",
    "covid_df['specimen_date'] = pd.to_datetime(covid_df['specimen_date'], errors='coerce')"
   ]
  },
  {
   "cell_type": "code",
   "execution_count": null,
   "id": "3c0c0345-c1b5-4587-ae64-195bbb06c2af",
   "metadata": {},
   "outputs": [],
   "source": [
    "# Standardize Numerical Data Types\n",
    "\n",
    "covid_df['active_cases'] = pd.to_numeric(covid_df['active_cases'], errors='coerce').astype('Int64')\n",
    "covid_df['resolved_cases'] = pd.to_numeric(covid_df['resolved_cases'], errors='coerce').astype('Int64')\n",
    "covid_df['deaths'] = pd.to_numeric(covid_df['deaths'], errors='coerce').astype('Int64')\n",
    "covid_df['positive_cases_agegroup'] = pd.to_numeric(covid_df['positive_cases_agegroup'], errors='coerce').astype('Int64')\n",
    "covid_df['positive_cases_total'] = pd.to_numeric(covid_df['positive_cases_total'], errors='coerce').astype('Int64')\n",
    "covid_df['cases_by_case_reported_agegrp'] = pd.to_numeric(covid_df['cases_by_case_reported_agegrp'], errors='coerce').astype('Int64')\n",
    "covid_df['cases_by_test_reported_agegrp'] = pd.to_numeric(covid_df['cases_by_test_reported_agegrp'], errors='coerce').astype('Int64')\n",
    "covid_df['cases_by_specimen_agegrp'] = pd.to_numeric(covid_df['cases_by_specimen_agegrp'], errors='coerce').astype('Int64')\n",
    "covid_df['cases_by_case_reported_total'] = pd.to_numeric(covid_df['cases_by_case_reported_total'], errors='coerce').astype('Int64')\n",
    "covid_df['cases_by_test_reported_total'] = pd.to_numeric(covid_df['cases_by_test_reported_total'], errors='coerce').astype('Int64')\n",
    "covid_df['cases_by_specimen_total'] = pd.to_numeric(covid_df['cases_by_specimen_total'], errors='coerce').astype('Int64')"
   ]
  },
  {
   "cell_type": "markdown",
   "id": "e51fe222-e856-40b5-ba10-71ebe5eb07cb",
   "metadata": {},
   "source": [
    "#### 2. Remove duplicates and check for consistency in identifiers (PHU_ID, Agegroup, Date)"
   ]
  },
  {
   "cell_type": "code",
   "execution_count": null,
   "id": "7e2967ca-7e43-4cb5-9e14-79b405840331",
   "metadata": {},
   "outputs": [],
   "source": [
    "# CHECK FOR DUPLICATES: NO DUPLICATES\n",
    "\n",
    "covid_df[covid_df.duplicated()]"
   ]
  },
  {
   "cell_type": "markdown",
   "id": "590b0a4b-a287-42ff-9393-22c577e810bd",
   "metadata": {},
   "source": [
    "#### 3. Handle missing values using imputation or removal as appropriate"
   ]
  },
  {
   "cell_type": "code",
   "execution_count": null,
   "id": "425ad3f1-e5a0-4b19-8630-be2ba27715ff",
   "metadata": {},
   "outputs": [],
   "source": [
    "#  CHECK MISSING VALUES: Counts\n",
    "\n",
    "covid_df.isna().sum()"
   ]
  },
  {
   "cell_type": "code",
   "execution_count": null,
   "id": "1e364e33-a954-425d-ab18-8ba228eb50ad",
   "metadata": {},
   "outputs": [],
   "source": [
    "#  CHECK MISSING VALUES: Percentages\n",
    "\n",
    "(covid_df\n",
    " .isna()\n",
    " .mean() \n",
    " .mul(100)\n",
    " .pipe(lambda ser: ser[ser > 0])\n",
    ")"
   ]
  },
  {
   "cell_type": "markdown",
   "id": "da74f5bb-a313-44f9-9691-eaae764fc044",
   "metadata": {},
   "source": [
    "#### 4. Detect and treat outliers in case counts and vaccination data"
   ]
  },
  {
   "cell_type": "code",
   "execution_count": null,
   "id": "0f758862-070a-4471-8abc-bc8521fb4a12",
   "metadata": {},
   "outputs": [],
   "source": [
    "# DETECTING AND HANDLING OUTLIERS USING IQR METHOD:\n",
    "\n",
    "\n",
    "import pandas as pd\n",
    "import numpy as np\n",
    "# Work on a copy to avoid modifying the original DataFrame\n",
    "covid_df_copy= covid_df.copy()\n",
    "# Outlier handling – cap using IQR\n",
    "for col in covid_df_copy.select_dtypes(include=[np.number]).columns:\n",
    "   Q1 = covid_df[col].quantile(0.25)\n",
    "   Q3 = covid_df[col].quantile(0.75)\n",
    "   IQR = Q3 - Q1\n",
    "   lower_bound = Q1 - 1.5 * IQR\n",
    "   upper_bound = Q3 + 1.5 * IQR\n",
    "   \n",
    "   # Convert nullable Int64 columns to float64 to handle negative values\n",
    "   if covid_df_copy[col].dtype == 'Int64':\n",
    "       covid_df_copy[col] = covid_df_copy[col].astype('float64')\n",
    "   \n",
    "   covid_df_copy.loc[covid_df_copy[col] < lower_bound, col] = lower_bound\n",
    "   covid_df_copy.loc[covid_df_copy[col] > upper_bound, col] = upper_bound\n",
    "\n",
    "print(\"✅ Missing values imputed and outliers capped on a safe copy.\")"
   ]
  }
 ],
 "metadata": {
  "kernelspec": {
   "display_name": "Python 3 (ipykernel)",
   "language": "python",
   "name": "python3"
  },
  "language_info": {
   "codemirror_mode": {
    "name": "ipython",
    "version": 3
   },
   "file_extension": ".py",
   "mimetype": "text/x-python",
   "name": "python",
   "nbconvert_exporter": "python",
   "pygments_lexer": "ipython3",
   "version": "3.12.7"
  }
 },
 "nbformat": 4,
 "nbformat_minor": 5
}
